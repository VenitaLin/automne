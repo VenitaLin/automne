{
 "cells": [
  {
   "cell_type": "code",
   "execution_count": 1,
   "id": "05aa70d8",
   "metadata": {},
   "outputs": [],
   "source": [
    "urls = ['https://www.fidelis.com.sg/products/category/bathroom/b-304-stainless-steel-accessories/b-304-glass-shelf/',\n",
    "# 'https://www.fidelis.com.sg/products/category/bathroom/b-304-stainless-steel-accessories/b-304-paper-holder/',\n",
    "# 'https://www.fidelis.com.sg/products/category/bathroom/b-304-stainless-steel-accessories/b-304-robe-hook/',\n",
    "# 'https://www.fidelis.com.sg/products/category/bathroom/b-304-stainless-steel-accessories/b-304-towel-bars/',\n",
    "# 'https://www.fidelis.com.sg/products/category/bathroom/b-304-stainless-steel-accessories/b-304-towel-holder/',\n",
    "# 'https://www.fidelis.com.sg/products/category/bathroom/b-bib-spray/',\n",
    "# 'https://www.fidelis.com.sg/products/category/bathroom/b-mixer/b-basin-mixer/',\n",
    "# 'https://www.fidelis.com.sg/products/category/bathroom/b-mixer/b-bath-shower-mixer/',\n",
    "# 'https://www.fidelis.com.sg/products/category/bathroom/b-mixer/b-mx-rain-shower-mixer-set/',\n",
    "# 'https://www.fidelis.com.sg/products/category/bathroom/b-mixer/b-mx-rain-bath-shower-mixer-set/',\n",
    "# 'https://www.fidelis.com.sg/products/category/bathroom/b-mixer/b-mx-shower-mixer/',\n",
    "# 'https://www.fidelis.com.sg/products/category/bathroom/b-taps/b-angle-taps/',\n",
    "# 'https://www.fidelis.com.sg/products/category/bathroom/b-taps/b-basin-taps/',\n",
    "# 'https://www.fidelis.com.sg/products/category/bathroom/b-wireware/',\n",
    "# 'https://www.fidelis.com.sg/products/category/kitchen/k-cold-taps/sink-tap/',\n",
    "# 'https://www.fidelis.com.sg/products/category/kitchen/k-kitchen-sinks/k-sinks-double-bowl/',\n",
    "# 'https://www.fidelis.com.sg/products/category/kitchen/k-kitchen-sinks/k-single-bowl/',\n",
    "# 'https://www.fidelis.com.sg/products/category/kitchen/k-sink-mixer/',\n",
    "# 'https://www.fidelis.com.sg/products/category/kitchen/k-wirewares/k-wirewares-304-stainless-steel-type/k-wirewares-304-dish-rack/'\n",
    "       ]"
   ]
  },
  {
   "cell_type": "code",
   "execution_count": 3,
   "id": "16e7668b",
   "metadata": {},
   "outputs": [
    {
     "name": "stderr",
     "output_type": "stream",
     "text": [
      "OMP: Info #276: omp_set_nested routine deprecated, please use omp_set_max_active_levels instead.\n"
     ]
    }
   ],
   "source": [
    "import requests\n",
    "import shutil,os\n",
    "from PIL import Image, ImageFilter\n",
    "import io\n",
    "from rembg import remove\n",
    "\n",
    "headers = {\n",
    "    'user-agent': 'Mozilla/5.0 (Windows NT 10.0; Win64; x64) AppleWebKit/537.36 (KHTML, like Gecko) Chrome/78.0.3904.108 Safari/537.36'\n",
    "}\n",
    "currentDir = os.getcwd()\n",
    "\n",
    "#saving images to Images folder\n",
    "path = '/Users/venitalin/Workspace/automne/Images/'\n",
    "\n",
    "def ImageDl(url):\n",
    "    attempts = 0\n",
    "    while attempts < 5:#retry 5 times\n",
    "        try:\n",
    "            filename = url.split('/')[-1]\n",
    "            r = requests.get(url,headers=headers,stream=True,timeout=5)\n",
    "            if r.status_code == 200:\n",
    "                # Resize the image to 1080 x 1080 pixels\n",
    "                image_data = r.content\n",
    "                image = Image.open(io.BytesIO(image_data))\n",
    "                image = image.resize((1080, 1080), resample=Image.BICUBIC)\n",
    "\n",
    "                # Remove the background\n",
    "                image = remove(image)\n",
    "\n",
    "                # Sharpen the image\n",
    "                image = image.filter(ImageFilter.SHARPEN)\n",
    "\n",
    "                # Save the resized, background-removed, and sharpened image as a WebP\n",
    "                new_filename = os.path.splitext(filename)[0] + \"_1080x1080.webp\"\n",
    "                image.save(os.path.join(path, new_filename), \"WebP\")\n",
    "                print(new_filename)\n",
    "            break\n",
    "        except Exception as e:\n",
    "            attempts+=1\n",
    "            print(e)"
   ]
  },
  {
   "cell_type": "code",
   "execution_count": 4,
   "id": "b849dd61",
   "metadata": {},
   "outputs": [],
   "source": [
    "import urllib.request\n",
    "from bs4 import BeautifulSoup\n",
    "  \n",
    "user_agent = 'Mozilla/5.0 (Windows; U; Windows NT 5.1; en-US; rv:1.9.0.7) Gecko/2009021910 Firefox/3.0.7'\n",
    "headers={'User-Agent':user_agent,} "
   ]
  },
  {
   "cell_type": "code",
   "execution_count": 5,
   "id": "f302f5f7",
   "metadata": {},
   "outputs": [],
   "source": [
    "def getPageUrls(mainPageUrl):\n",
    "    res = []\n",
    "    request = urllib.request.Request(mainPageUrl,None,headers)\n",
    "    response = urllib.request.urlopen(request)\n",
    "    soup = BeautifulSoup(response, 'html.parser')\n",
    "    productLinks = [div.a for div in \n",
    "        soup.findAll('div', attrs={'class' : 'product-post-block'})]\n",
    "    for link in productLinks:\n",
    "        res.append(link['href'])\n",
    "    return res\n",
    "\n",
    "def getImgUrls(pageUrl):\n",
    "    res = []\n",
    "    request = urllib.request.Request(pageUrl,None,headers)\n",
    "    response = urllib.request.urlopen(request)\n",
    "    soup = BeautifulSoup(response, 'html.parser')\n",
    "    div = soup.find('div',{\"class\":\"product-img\"})\n",
    "    src = div.find('img').attrs['src']\n",
    "    return src"
   ]
  },
  {
   "cell_type": "code",
   "execution_count": 6,
   "id": "e9d3dd7e",
   "metadata": {},
   "outputs": [
    {
     "name": "stdout",
     "output_type": "stream",
     "text": [
      "FAC-512105-Glass-Shelf-Mia-Series-768x768_1080x1080.webp\n",
      "FAC-513105-Glass-Shelf-Turkey-Series-768x768_1080x1080.webp\n",
      "FAC-518015-Glass-Shelf-Fide-Series-768x768_1080x1080.webp\n",
      "FAC-519015-Glass-Shelf-Berlin-Series-768x768_1080x1080.webp\n",
      "FAC-826015-Glass-Shelf-Art-Series-768x768_1080x1080.webp\n",
      "FAC-827015-Glass-Shelf-Tempered-GlassLux-Series-768x768_1080x1080.webp\n",
      "FAC-834105-Glass-Shelf-Ori-Series-768x768_1080x1080.webp\n",
      "FAC-852105-Glass-Shelf-Axis-Series-768x768_1080x1080.webp\n",
      "FAC-BK827015-Glass-Shelf-Lux-Series-Black-768x768_1080x1080.webp\n",
      "FT-0337-25-HGM-Corner-Glass-Shelf-Gun-Metal-768x768_1080x1080.webp\n",
      "FG-0353-50-Single-Layer-Glass-Shelf-Gun-Metal-768x768_1080x1080.webp\n",
      "FT-0605-HGM-Corner-Glass-Shelf-Gun-Metal-768x768_1080x1080.webp\n"
     ]
    }
   ],
   "source": [
    "for u in urls:\n",
    "    pageUrls = getPageUrls(u)\n",
    "    for pageUrl in pageUrls:\n",
    "        image = getImgUrls(pageUrl)\n",
    "        ImageDl(image)"
   ]
  }
 ],
 "metadata": {
  "kernelspec": {
   "display_name": "Python 3 (ipykernel)",
   "language": "python",
   "name": "python3"
  },
  "language_info": {
   "codemirror_mode": {
    "name": "ipython",
    "version": 3
   },
   "file_extension": ".py",
   "mimetype": "text/x-python",
   "name": "python",
   "nbconvert_exporter": "python",
   "pygments_lexer": "ipython3",
   "version": "3.10.12"
  }
 },
 "nbformat": 4,
 "nbformat_minor": 5
}
